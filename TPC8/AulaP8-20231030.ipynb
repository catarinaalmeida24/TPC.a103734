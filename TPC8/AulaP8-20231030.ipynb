{
 "cells": [
  {
   "cell_type": "markdown",
   "id": "4193a91b",
   "metadata": {},
   "source": [
    "## TPC8: Teste de aferição\n",
    "\n",
    "Resolva os problemas apresentados a seguir."
   ]
  },
  {
   "cell_type": "markdown",
   "id": "ecb162bd",
   "metadata": {},
   "source": [
    "### tpc-1. Especifique as seguintes listas em compreensão:"
   ]
  },
  {
   "cell_type": "markdown",
   "id": "4e758271",
   "metadata": {},
   "source": [
    "#### a) Lista formada pelos elementos que não são comuns às duas listas:"
   ]
  },
  {
   "cell_type": "code",
   "execution_count": 8,
   "id": "1fe48423",
   "metadata": {},
   "outputs": [
    {
     "data": {
      "text/plain": [
       "[3, 6, 9, 5, 1, 8]"
      ]
     },
     "execution_count": 8,
     "metadata": {},
     "output_type": "execute_result"
    }
   ],
   "source": [
    "lista1 = [3, 4, 6, 4, 7, 9]\n",
    "lista2 = [4, 5, 1, 7, 8]  \n",
    "comuns = [...]\n",
    "\n",
    "def naocomuns(lista1,lista2):\n",
    "    ncomuns = []\n",
    "    for i in lista1:\n",
    "        if i not in lista2: \n",
    "            ncomuns.append(i)\n",
    "    for i in lista2:\n",
    "        if i not in lista1 and i not in ncomuns:\n",
    "            ncomuns.append(i)\n",
    "    return ncomuns\n",
    "\n",
    "naocomuns(lista1,lista2)\n",
    "\n",
    "# Resultado esperado: [3,6,9,5,1,8]"
   ]
  },
  {
   "cell_type": "markdown",
   "id": "0ded2f03",
   "metadata": {},
   "source": [
    "#### b) Lista formada pelas palavras do texto compostas por mais de 3 letras:"
   ]
  },
  {
   "cell_type": "code",
   "execution_count": 9,
   "id": "4ae7f5d0",
   "metadata": {},
   "outputs": [
    {
     "data": {
      "text/plain": [
       "['pouco', 'tempo', 'Joãozinho', 'cresceu', 'tanto!']"
      ]
     },
     "execution_count": 9,
     "metadata": {},
     "output_type": "execute_result"
    }
   ],
   "source": [
    "texto = \"\"\"Em tão pouco tempo Joãozinho cresceu tanto!\"\"\"\n",
    "lista = [...]\n",
    "\n",
    "def mais3letras(texto):\n",
    "    superiores = []\n",
    "    texto = texto.strip(\"\\n\")\n",
    "    texto = texto.split(\" \")\n",
    "    for palavra in texto:\n",
    "        if len(palavra) > 3:\n",
    "            superiores.append(palavra)\n",
    "    return superiores \n",
    "\n",
    "mais3letras(texto)"
   ]
  },
  {
   "cell_type": "markdown",
   "id": "ecf72afd",
   "metadata": {},
   "source": [
    "#### c) Lista formada por pares do tipo (índice, valor) com os valores da lista dada:"
   ]
  },
  {
   "cell_type": "code",
   "execution_count": 10,
   "id": "876b2cc3",
   "metadata": {},
   "outputs": [
    {
     "data": {
      "text/plain": [
       "[(1, 'banana'), (2, 'maçã'), (3, 'laranja'), (4, 'pera'), (5, 'kiwi')]"
      ]
     },
     "execution_count": 10,
     "metadata": {},
     "output_type": "execute_result"
    }
   ],
   "source": [
    "lista = ['banana', 'maçã', 'laranja', 'pera', \"kiwi\"]\n",
    "listaRes = [...]\n",
    "\n",
    "def pares(lista):\n",
    "    res = []\n",
    "    for palavra in lista:\n",
    "        num = lista.index(palavra) + 1\n",
    "        res.append((num,palavra))\n",
    "    return res\n",
    "\n",
    "pares(lista)"
   ]
  },
  {
   "cell_type": "markdown",
   "id": "28cb3dc4",
   "metadata": {},
   "source": [
    "### tpc-2. À semelhança do que foi feito nas aulas, realize as seguintes tarefas:"
   ]
  },
  {
   "cell_type": "markdown",
   "id": "5d3f1dbe",
   "metadata": {},
   "source": [
    "#### a) Especifique uma função que dada uma string e uma substring não vazia, calcula  o número de vezes em que a substring aparece na string, sem que haja sobreposição de substrings:"
   ]
  },
  {
   "cell_type": "code",
   "execution_count": 11,
   "id": "4458c7bc",
   "metadata": {},
   "outputs": [
    {
     "name": "stdout",
     "output_type": "stream",
     "text": [
      "2\n",
      "1\n",
      "0\n"
     ]
    }
   ],
   "source": [
    "def strCount(s, subs):\n",
    "    res = 0\n",
    "    i = 0\n",
    "    while i < len(s):\n",
    "        if s[i:i + len(subs)] == subs:\n",
    "            res = res + 1\n",
    "            i = i + len(subs)\n",
    "        else: i = i + 1\n",
    "    return res\n",
    "\n",
    "print(strCount(\"simnaosim\", \"sim\"))\n",
    "print(strCount(\"simnaosim\", \"nao\"))\n",
    "print(strCount(\"simnaosim\", \"talvez\"))"
   ]
  },
  {
   "cell_type": "markdown",
   "id": "e6db31d7",
   "metadata": {},
   "source": [
    "#### b) Especifique uma função que recebe uma lista de números inteiros positivos e devolve o menor produto que for possível calcular multiplicando os 3 menores inteiros da lista:"
   ]
  },
  {
   "cell_type": "code",
   "execution_count": 13,
   "id": "2b5ad344",
   "metadata": {},
   "outputs": [
    {
     "name": "stdout",
     "output_type": "stream",
     "text": [
      "72\n"
     ]
    }
   ],
   "source": [
    "def ordenaLista(lista):\n",
    "\n",
    "    tam = len(lista)\n",
    "\n",
    "    while tam > 0:\n",
    "        for n in range(len(lista)-1):\n",
    "            if lista[n] > lista[n+1]:\n",
    "                lista[n], lista[n+1] = lista[n+1], lista[n]\n",
    "        tam = tam - 1\n",
    "    \n",
    "    return lista\n",
    "\n",
    "def produtoM3(lista):\n",
    "    listaordenada = ordenaLista(lista)\n",
    "    res = listaordenada[0]*listaordenada[1]*listaordenada[2]\n",
    "    return  res\n",
    "\n",
    "print(produtoM3([2,4,12,16,18,58,9]))"
   ]
  },
  {
   "cell_type": "markdown",
   "id": "6698b337",
   "metadata": {},
   "source": [
    "#### c) Especifique uma função que dado um número inteiro positivo, repetidamente adiciona os seus dígitos até obter apenas um dígito que é retornado como resultado:"
   ]
  },
  {
   "cell_type": "code",
   "execution_count": 15,
   "id": "54cef309",
   "metadata": {},
   "outputs": [
    {
     "data": {
      "text/plain": [
       "['7']"
      ]
     },
     "execution_count": 15,
     "metadata": {},
     "output_type": "execute_result"
    }
   ],
   "source": [
    "\n",
    "def soma (lista):\n",
    "    i = 0\n",
    "    soma = 0\n",
    "    while i < len(lista) :\n",
    "        soma = soma + int(lista [i])\n",
    "        i = i + 1\n",
    "    return soma \n",
    "\n",
    "def reduxInt(n):\n",
    "    l = list(str(n))\n",
    "    somat = 0\n",
    "    while len(l) != 1:\n",
    "        somat = soma(l)\n",
    "        l = list(str(somat)) \n",
    "    return l\n",
    "\n",
    "\n",
    "reduxInt(10654)"
   ]
  },
  {
   "cell_type": "markdown",
   "id": "4a47b6e8",
   "metadata": {},
   "source": [
    "#### d) Especifique uma função que recebe duas strings, `string1` e `string2`, e devolve o índice da primeira ocorrência de `string2` em `string1`, caso não ocorra nenhuma vez a função deverá retornar `-1`:"
   ]
  },
  {
   "cell_type": "code",
   "execution_count": 23,
   "id": "f0f4c2a8",
   "metadata": {},
   "outputs": [
    {
     "name": "stdout",
     "output_type": "stream",
     "text": [
      "Resultado: 22\n",
      "Resultado: -1\n"
     ]
    }
   ],
   "source": [
    "def IndexOf(s1, s2):\n",
    "    ls1 = list(s1)\n",
    "    for palavra in ls1:\n",
    "        if s2[0] == palavra:\n",
    "            return \"Resultado: \" + str(ls1.index(palavra))\n",
    "    else: \n",
    "        return \"Resultado: \" + \"-1\"\n",
    "        \n",
    "print(IndexOf(\"A Mariana hoje estava feliz!\", \"feliz\"))\n",
    "print(IndexOf(\"A Mariana hoje estava feliz!\", \"cabisbaixa\"))"
   ]
  },
  {
   "cell_type": "markdown",
   "id": "7cd572fc",
   "metadata": {},
   "source": [
    "### tpc-3. A Rede Social\n",
    "\n",
    "Considere que a informação sobre uma rede social está armazenada numa lista de dicionários.\n",
    "\n",
    "Cada dicionário, correspondente a um _post_ e tem chaves `id`, `conteudo`, `autor`, `dataCriacao` e `comentarios`.\n",
    "Por sua vez, `comentarios` é uma lista de dicionários com chaves `comentario` e `autor`.\n",
    "\n",
    "Considere o seguinte exemplo:\n",
    "\n",
    "``` \n",
    "    MyFaceBook = [{\n",
    "        'id': 'p1', \n",
    "        'conteudo': 'A tarefa de avaliação é talvez a mais ingrata das tarefas que um professor\n",
    "    tem de realizar...', \n",
    "        'autor': 'jcr', \n",
    "        'dataCriacao': '2023-07-20', \n",
    "        'comentarios': [\n",
    "            {\n",
    "                'comentario': 'Completamente de acordo...',\n",
    "                'autor': 'prh'\n",
    "            },\n",
    "            {\n",
    "                'comentario': 'Mas há quem goste...',\n",
    "                'autor': 'jj'\n",
    "            }\n",
    "        ]},\n",
    "        {\n",
    "            'id': 'p2',\n",
    "            ...\n",
    "        },\n",
    "        ...\n",
    "        ]\n",
    "```"
   ]
  },
  {
   "cell_type": "code",
   "execution_count": 2,
   "metadata": {},
   "outputs": [],
   "source": [
    " MyFaceBook = [{\n",
    "        'id': 'p1', \n",
    "        'conteudo': 'A tarefa de avaliação é talvez a mais ingrata das tarefas que um professor tem de realizar...', \n",
    "        'autor': 'jcr', \n",
    "        'dataCriacao': '2023-07-20', \n",
    "        'comentarios': [\n",
    "            {\n",
    "                'comentario': 'Completamente de acordo...',\n",
    "                'autor': 'prh'\n",
    "            },\n",
    "            {\n",
    "                'comentario': 'Mas há quem goste...',\n",
    "                'autor': 'jj'\n",
    "            }\n",
    "        ]}, \n",
    "        {'id': 'p2',\n",
    "        'conteudo': 'Estou cansada ',\n",
    "        'autor': 'cmva ',\n",
    "        'dataCriacao': '2023-11-20',\n",
    "        'comentarios': [\n",
    "            {\n",
    "                'comentario': 'Eu também ',\n",
    "                'autor': 'tlva'\n",
    "            }\n",
    "        ]}\n",
    "        ]"
   ]
  },
  {
   "cell_type": "markdown",
   "id": "89afc758",
   "metadata": {},
   "source": [
    "Defina as seguintes funções de manipulação e consulta da rede social:"
   ]
  },
  {
   "cell_type": "markdown",
   "id": "1aec6cd8",
   "metadata": {},
   "source": [
    "#### a) `quantosPost`, que indica quantos posts estão registados:"
   ]
  },
  {
   "cell_type": "code",
   "execution_count": 3,
   "id": "39a813ee",
   "metadata": {},
   "outputs": [
    {
     "data": {
      "text/plain": [
       "2"
      ]
     },
     "execution_count": 3,
     "metadata": {},
     "output_type": "execute_result"
    }
   ],
   "source": [
    "def quantosPost(redeSocial):\n",
    "    \n",
    "    return len(MyFaceBook)\n",
    "\n",
    "quantosPost(MyFaceBook)"
   ]
  },
  {
   "cell_type": "markdown",
   "id": "2156a0c8",
   "metadata": {},
   "source": [
    "#### b)  `postsAutor`, que devolve a lista de posts de um determinado autor:"
   ]
  },
  {
   "cell_type": "code",
   "execution_count": 4,
   "id": "8a5a2a41",
   "metadata": {},
   "outputs": [
    {
     "data": {
      "text/plain": [
       "[{'id': 'p1',\n",
       "  'conteudo': 'A tarefa de avaliação é talvez a mais ingrata das tarefas que um professor tem de realizar...',\n",
       "  'autor': 'jcr',\n",
       "  'dataCriacao': '2023-07-20',\n",
       "  'comentarios': [{'comentario': 'Completamente de acordo...', 'autor': 'prh'},\n",
       "   {'comentario': 'Mas há quem goste...', 'autor': 'jj'}]}]"
      ]
     },
     "execution_count": 4,
     "metadata": {},
     "output_type": "execute_result"
    }
   ],
   "source": [
    "def postsAutor(redeSocial, autor):\n",
    "    lposts = []\n",
    "    for post in redeSocial:\n",
    "        if post[\"autor\"] == autor:\n",
    "            lposts.append(post)    \n",
    "        return lposts\n",
    "    else: \n",
    "        return \"Autor não encontrado\"\n",
    "\n",
    "postsAutor(MyFaceBook, \"jcr\")"
   ]
  },
  {
   "cell_type": "markdown",
   "id": "12f9126b",
   "metadata": {},
   "source": [
    "#### c) `autores`, que devolve a lista de autores de posts ordenada alfabeticamente:"
   ]
  },
  {
   "cell_type": "code",
   "execution_count": 5,
   "id": "d9dfe30a",
   "metadata": {},
   "outputs": [
    {
     "data": {
      "text/plain": [
       "['jcr', 'cmva ']"
      ]
     },
     "execution_count": 5,
     "metadata": {},
     "output_type": "execute_result"
    }
   ],
   "source": [
    "def autores(redeSocial):\n",
    "    lautores = []\n",
    "    for post in redeSocial:\n",
    "        lautores.append(post[\"autor\"]) \n",
    "    return lautores\n",
    "\n",
    "autores(MyFaceBook) "
   ]
  },
  {
   "cell_type": "markdown",
   "id": "1a0f760b",
   "metadata": {},
   "source": [
    "#### d) `insPost`, que acrescenta um novo post à rede social a partir dos parâmetros recebidos e devolve a nova rede social. \n",
    "    \n",
    "O campo `id` devrá ser calculado a partir dos já existentes, por exemplo, se a rede tiver posts com id `p1`, `p2` e `p3`, o novo `id` deverá ser `p4`."
   ]
  },
  {
   "cell_type": "code",
   "execution_count": 6,
   "id": "a00c85e3",
   "metadata": {},
   "outputs": [
    {
     "data": {
      "text/plain": [
       "[{'id': 'p1',\n",
       "  'conteudo': 'A tarefa de avaliação é talvez a mais ingrata das tarefas que um professor tem de realizar...',\n",
       "  'autor': 'jcr',\n",
       "  'dataCriacao': '2023-07-20',\n",
       "  'comentarios': [{'comentario': 'Completamente de acordo...', 'autor': 'prh'},\n",
       "   {'comentario': 'Mas há quem goste...', 'autor': 'jj'}]},\n",
       " {'id': 'p2',\n",
       "  'conteudo': 'Estou cansada ',\n",
       "  'autor': 'cmva ',\n",
       "  'dataCriacao': '2023-11-20',\n",
       "  'comentarios': [{'comentario': 'Eu também ', 'autor': 'tlva'}]},\n",
       " {'id': 'p3',\n",
       "  'conte+udo': 'aulas atp',\n",
       "  'autor': 'cmva2',\n",
       "  'data': '2023-12-15',\n",
       "  'comentarios': []}]"
      ]
     },
     "execution_count": 6,
     "metadata": {},
     "output_type": "execute_result"
    }
   ],
   "source": [
    "def insPost(redeSocial):\n",
    "    novopost = {}\n",
    "    ultimopost = redeSocial[-1]\n",
    "    id_anterior = ultimopost[\"id\"]\n",
    "    id = \"p\" + str(int(id_anterior[1])+1)\n",
    "    comentarios  =[]\n",
    "    c = -1\n",
    "    conteudo = input(\"Conteúdo do post: \")\n",
    "    autor = input(\"Nome do autor do seu post: \")\n",
    "    data = input(\"Data de criação do post (AAAA-MM-DD): \")\n",
    "    while c != \"0\":\n",
    "        c = input(\"Insira o comentário e nome do autor separados por , e, caso não queira inserir novos comentários prima '0' e 'Enter'\")\n",
    "        if len(c) >= 2 and c != \"0\":\n",
    "            com,aut = c.split(\",\")\n",
    "            comentario = {\"comentário\": com, \"autor\": aut}\n",
    "            comentarios.append(comentario)\n",
    "    novopost = {\"id\": id, \"conte+udo\": conteudo, \"autor\": autor, \"data\": data, \"comentarios\": comentarios}\n",
    "    redeSocial.append(novopost)\n",
    "    return redeSocial\n",
    "\n",
    "insPost(MyFaceBook)"
   ]
  },
  {
   "cell_type": "markdown",
   "id": "65061d0a",
   "metadata": {},
   "source": [
    "#### e)  `remPost`, que remove um post da rede, correspondente ao `id` recebido."
   ]
  },
  {
   "cell_type": "code",
   "execution_count": 7,
   "id": "dc1adabc",
   "metadata": {},
   "outputs": [
    {
     "data": {
      "text/plain": [
       "\"Post foi removido com sucesso! A sua rede social agora é: [{'id': 'p1', 'conteudo': 'A tarefa de avaliação é talvez a mais ingrata das tarefas que um professor tem de realizar...', 'autor': 'jcr', 'dataCriacao': '2023-07-20', 'comentarios': [{'comentario': 'Completamente de acordo...', 'autor': 'prh'}, {'comentario': 'Mas há quem goste...', 'autor': 'jj'}]}, {'id': 'p2', 'conteudo': 'Estou cansada ', 'autor': 'cmva ', 'dataCriacao': '2023-11-20', 'comentarios': [{'comentario': 'Eu também ', 'autor': 'tlva'}]}, {'id': 'p3', 'conte+udo': 'aulas atp', 'autor': 'cmva2', 'data': '2023-12-15', 'comentarios': []}]\""
      ]
     },
     "execution_count": 7,
     "metadata": {},
     "output_type": "execute_result"
    }
   ],
   "source": [
    "def remPost(redeSocial, id):\n",
    "    retirarpost = {}\n",
    "    id_dado = \"p\" + str(id)\n",
    "    if 1 <= id <= len(redeSocial):\n",
    "        for post in redeSocial:\n",
    "            if post[\"id\"] == id_dado:\n",
    "                retirarpost = post\n",
    "        certeza = input(\"Confirma que quer apagar o post p\" + str(id) + \" ? \\nPara confirmar digite 'Sim'\")\n",
    "        if certeza == \"Sim\":\n",
    "            del redeSocial[id-1]\n",
    "        return \"Post foi removido com sucesso! A sua rede social agora é: \" + str(redeSocial)\n",
    "    else: \n",
    "        print(\"O id inserido não é válido\")\n",
    "\n",
    "remPost(MyFaceBook, 3)"
   ]
  },
  {
   "cell_type": "markdown",
   "id": "de46a635",
   "metadata": {},
   "source": [
    "#### f) `postsPorAutor`, que devolve uma distribuição de posts por autor (à semelhança do que foi feito nas aulas)."
   ]
  },
  {
   "cell_type": "code",
   "execution_count": 8,
   "id": "4118730d",
   "metadata": {},
   "outputs": [
    {
     "data": {
      "image/png": "[encoded data removed]",
      "text/plain": [
       "<Figure size 640x480 with 1 Axes>"
      ]
     },
     "metadata": {},
     "output_type": "display_data"
    }
   ],
   "source": [
    "import matplotlib.pyplot as plt \n",
    "\n",
    "def postsPorAutor(redeSocial):\n",
    "    autores=[]\n",
    "    for post in redeSocial:\n",
    "        autores.append(post[\"autor\"])\n",
    "    dic_autores = {}\n",
    "    for autor in autores:\n",
    "        if autor in dic_autores:\n",
    "            dic_autores[autor] = dic_autores[autor] + 1\n",
    "        else:\n",
    "            dic_autores[autor] = 1\n",
    "\n",
    "    xValores =list(dic_autores.keys())\n",
    "    yValores = list(dic_autores.values())\n",
    "\n",
    "    plt.bar(xValores, yValores, color='pink')\n",
    "\n",
    "    plt.xlabel(\"Autores\")\n",
    "    \n",
    "    plt.title(\"Distribuição de posts por autor\")\n",
    "\n",
    "    plt.show()\n",
    "\n",
    "\n",
    "postsPorAutor(MyFaceBook)"
   ]
  },
  {
   "cell_type": "markdown",
   "id": "5b1d7d7a",
   "metadata": {},
   "source": [
    "#### g) `comentadoPor`, que recebe um autor e devolve a lista de posts comentados por esse autor."
   ]
  },
  {
   "cell_type": "code",
   "execution_count": 12,
   "id": "a91f2619",
   "metadata": {},
   "outputs": [
    {
     "name": "stdout",
     "output_type": "stream",
     "text": [
      "O autor que inseriu não tem comentários no post\n",
      "O autor que inseriu não tem comentários no post\n",
      "O autor que inseriu não tem comentários no post\n"
     ]
    },
    {
     "data": {
      "text/plain": [
       "[]"
      ]
     },
     "execution_count": 12,
     "metadata": {},
     "output_type": "execute_result"
    }
   ],
   "source": [
    "def comentadoPor(redeSocial, autor):\n",
    "    lpostcomentadoa = []\n",
    "    for post in redeSocial:\n",
    "        if \"comentarios\" in post:\n",
    "            for comentario in post[\"comentarios\"]:\n",
    "                if comentario[\"autor\"] == autor:\n",
    "                    lpostcomentadoa.append(post)\n",
    "                else: \n",
    "                    print(\"O autor que inseriu não tem comentários no post\")\n",
    "\n",
    "    return lpostcomentadoa\n",
    "\n",
    "\n",
    "comentadoPor(MyFaceBook,\"cfrd\")"
   ]
  }
 ],
 "metadata": {
  "kernelspec": {
   "display_name": "Python 3.9.1 64-bit",
   "language": "python",
   "name": "python3"
  },
  "language_info": {
   "codemirror_mode": {
    "name": "ipython",
    "version": 3
   },
   "file_extension": ".py",
   "mimetype": "text/x-python",
   "name": "python",
   "nbconvert_exporter": "python",
   "pygments_lexer": "ipython3",
   "version": "3.12.0"
  },
  "vscode": {
   "interpreter": {
    "hash": "aee8b7b246df8f9039afb4144a1f6fd8d2ca17a180786b69acc140d282b71a49"
   }
  }
 },
 "nbformat": 4,
 "nbformat_minor": 5
}
