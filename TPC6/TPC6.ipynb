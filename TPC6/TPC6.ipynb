{
 "cells": [
  {
   "cell_type": "markdown",
   "id": "1e545158",
   "metadata": {},
   "source": [
    "# Aula Prática 6 (guião)\n",
    "### Semana de 16 a 20 de Outubro de 2022\n",
    "### José Carlos Ramalho e Luís Cunha\n",
    "### Sinopsis:\n",
    "Algoritmos e modelação de problemas com armazenamento em memória secundária."
   ]
  },
  {
   "cell_type": "markdown",
   "id": "1d9c2fbc",
   "metadata": {},
   "source": [
    "### Exercício 2: Polinómios\n",
    "\n",
    "Neste exercício, desenvolva as seguintes alíneas:"
   ]
  },
  {
   "cell_type": "markdown",
   "id": "8ef1ac42",
   "metadata": {},
   "source": [
    "#### a) Pense num modelo para polinómios e instancia os seguintes exemplos:\n",
    "\n",
    "* `x`\n",
    "* `2x + 1`\n",
    "* `7x^5 + 6x^3 - 2x^2 + 27`"
   ]
  },
  {
   "cell_type": "code",
   "execution_count": 18,
   "id": "854085f7",
   "metadata": {},
   "outputs": [],
   "source": [
    "# [(c,g) ;] c = coeficiente; g = grau\n",
    "p1 = [(1,1)]\n",
    "p2 = [(2,1), (1,0)]\n",
    "p3 = [(7,5), (6,3), (-2,2), (27,0)]\n",
    "p4 = [(3,3), (5,2), (6,1), (7,0)]"
   ]
  },
  {
   "cell_type": "markdown",
   "id": "fdc3ff66",
   "metadata": {},
   "source": [
    "#### b) Defina uma função, ou funções, que pede ao utilizador a informação necessária para criar um polinómio, cria esse polinómio e devolve-o como resultado. Use a função criada para criar dois novos polinómios à sua escolha."
   ]
  },
  {
   "cell_type": "code",
   "execution_count": 1,
   "id": "fb44546a",
   "metadata": {},
   "outputs": [
    {
     "name": "stdout",
     "output_type": "stream",
     "text": [
      "[(2, 3), (4, 2), (6, 1), (8, 0)]\n"
     ]
    }
   ],
   "source": [
    "### O APPEND SÓ RECEBE UM ARGUMENTO\n",
    "# Solução de 2.b)\n",
    "def criaPolIn():\n",
    "    resPol = []\n",
    "    grau = int(input(\"Qual o grau do polinómio: \"))\n",
    "    while grau >= 0:\n",
    "        coeficiente = int(input(\"Qual o coeficente para o grau \" + str(grau) + \" :\"))\n",
    "        if coeficiente != 0:\n",
    "            termo = (coeficiente, grau)\n",
    "            resPol.append(termo)\n",
    "        grau = grau - 1\n",
    "\n",
    "    return resPol \n",
    "\n",
    "p1 = criaPolIn()\n",
    "print(p1)"
   ]
  },
  {
   "cell_type": "markdown",
   "id": "9d3475e4",
   "metadata": {},
   "source": [
    "#### c) Defina uma função que calcula o valor do polinómio dado um valor de `x`"
   ]
  },
  {
   "cell_type": "code",
   "execution_count": 10,
   "id": "c4c8dc32",
   "metadata": {},
   "outputs": [
    {
     "data": {
      "text/plain": [
       "21"
      ]
     },
     "execution_count": 10,
     "metadata": {},
     "output_type": "execute_result"
    }
   ],
   "source": [
    "# Solução de 2.c)\n",
    "\n",
    "def pot(a,b):\n",
    "    res = 1\n",
    "    while b > 0:\n",
    "        res = res * a\n",
    "        b = b - 1 \n",
    "    return res \n",
    "    \n",
    "\n",
    "def calcPolinomio(p, x):\n",
    "    res = 0\n",
    "    for termo in p:\n",
    "        coe = termo[0]\n",
    "        grau = termo[1]\n",
    "        # coe , grau = termo : outra forma de ir às posições do tuple \n",
    "        res = res + coe * pot(x, grau)\n",
    "    return res\n",
    "\n",
    "\n",
    "p5 = [(3,3), (5,2), (6,1), (7,0)]\n",
    "x1 = 1\n",
    "calcPolinomio(p1, x1)"
   ]
  },
  {
   "cell_type": "markdown",
   "id": "6da31132",
   "metadata": {},
   "source": [
    "Use a função criada para calcular o valor dum polinómio, à sua escolha, para valores de x em `[-10, 10]`."
   ]
  },
  {
   "cell_type": "markdown",
   "id": "5fa6de75",
   "metadata": {},
   "source": [
    "#### d) Defina uma função que imprime no monitor o polinómio. Utilize-a para visualizar os polinómios criados até ao momento."
   ]
  },
  {
   "cell_type": "code",
   "execution_count": 3,
   "id": "b0716c72",
   "metadata": {},
   "outputs": [
    {
     "name": "stdout",
     "output_type": "stream",
     "text": [
      "O polinómio p1 é:  x^1\n",
      "O polinómo p2 é:  2x\n",
      "O polinómo p3 é:  7x^5\n"
     ]
    }
   ],
   "source": [
    "# Solução de 1.d)\n",
    "def verPolinomio(p):\n",
    "    if len(p) != 0:\n",
    "        for termo in p:\n",
    "            c = termo[0]\n",
    "            g = termo[1]\n",
    "            if g == 0:\n",
    "                return str(c)\n",
    "            elif c == 1:\n",
    "                return \"x^\" + str(g)\n",
    "            elif g == 1:\n",
    "                return str(c) + \"x\"\n",
    "            else: \n",
    "                return str(c) + \"x^\" + str(g)\n",
    "\n",
    "p1 = [(1,1)]\n",
    "print (\"O polinómio p1 é: \", verPolinomio (p1))\n",
    "\n",
    "p2 = [(2,1), (1,0)]\n",
    "print(\"O polinómo p2 é: \", verPolinomio (p2))\n",
    "\n",
    "p3 = [(7,5), (6,3), (-2,2), (27,0)]\n",
    "print(\"O polinómo p3 é: \", verPolinomio (p3))\n",
    "\n",
    "\n",
    "    "
   ]
  },
  {
   "cell_type": "markdown",
   "id": "beb31acc",
   "metadata": {},
   "source": [
    "#### e) Defina uma função que calcula o grau de um polinómio dado. Aplique-a a alguns polinómios."
   ]
  },
  {
   "cell_type": "code",
   "execution_count": 15,
   "id": "09816d6e",
   "metadata": {},
   "outputs": [
    {
     "name": "stdout",
     "output_type": "stream",
     "text": [
      "O grau do polinómio é:\n"
     ]
    },
    {
     "data": {
      "text/plain": [
       "5"
      ]
     },
     "execution_count": 15,
     "metadata": {},
     "output_type": "execute_result"
    }
   ],
   "source": [
    "# Solução de 1.e)\n",
    "def grauPolinomio(p):\n",
    "    maior = p[0][1]\n",
    "    for g in range(1, len(p)):\n",
    "        if p[g][1]> maior:\n",
    "            maior = p[g][1]\n",
    "    return maior\n",
    "\n",
    "p6= [(7,3), (6,2), (-2,5), (27,0)]\n",
    "print(\"O grau do polinómio é:\") \n",
    "grauPolinomio(p1)\n"
   ]
  },
  {
   "cell_type": "markdown",
   "id": "5a1a7c41",
   "metadata": {},
   "source": [
    "#### f) Defina uma função que calcula o maior grau de uma lista de polinómios."
   ]
  },
  {
   "cell_type": "code",
   "execution_count": 15,
   "id": "ca598c3d",
   "metadata": {},
   "outputs": [
    {
     "name": "stdout",
     "output_type": "stream",
     "text": [
      "O maior grau da lista de polinómios é:\n"
     ]
    },
    {
     "data": {
      "text/plain": [
       "5"
      ]
     },
     "execution_count": 15,
     "metadata": {},
     "output_type": "execute_result"
    }
   ],
   "source": [
    "# Solução de 1.f)\n",
    "def grauPolinomios(listap):\n",
    "    maior = listap[0][0][1]\n",
    "    for p in listap:\n",
    "        for c, g in p:\n",
    "            if g > maior:\n",
    "                maior = g\n",
    "    return maior\n",
    "\n",
    "p1 = [(1,1)]\n",
    "p3 = [(7,5), (6,3), (-2,2), (27,0)]\n",
    "p2 = [(2,1), (1,0)]\n",
    "listap3 = [p1, p2, p3]  \n",
    "print(\"O maior grau da lista de polinómios é:\") \n",
    "grauPolinomios(listap3)  \n"
   ]
  },
  {
   "cell_type": "markdown",
   "id": "0cfe33d8",
   "metadata": {},
   "source": [
    "#### g) Defina uma função que imprime no monitor uma tabela com n linhas: x | p(x)\n",
    "\n",
    "Aplique-a a alguns polinómios."
   ]
  },
  {
   "cell_type": "code",
   "execution_count": 19,
   "id": "3619f63c",
   "metadata": {},
   "outputs": [
    {
     "name": "stdout",
     "output_type": "stream",
     "text": [
      "x  ::: 3x^3\n",
      "0 ::: 7\n",
      "1 ::: 21\n",
      "2 ::: 63\n",
      "3 ::: 151\n",
      "4 ::: 303\n",
      "5 ::: 537\n"
     ]
    }
   ],
   "source": [
    "# Solução de 1.g)\n",
    "def tabela(p):\n",
    "    linhas = int(input(\"Introduza o número de linhas que deseja para a tabela: \"))\n",
    "    print(\"x \" + \" ::: \" + verPolinomio(p))\n",
    "    for i in range (0, linhas):\n",
    "        print (str(i) + \" ::: \" + str(calcPolinomio(p,i)))\n",
    "\n",
    "\n",
    "\n",
    "tabela(p4)"
   ]
  },
  {
   "cell_type": "markdown",
   "id": "df16478c",
   "metadata": {},
   "source": [
    "#### h) Define uma função que dado um polinómio calcula a sua derivada\n",
    "\n",
    "Aplique-a a alguns polinómios."
   ]
  },
  {
   "cell_type": "code",
   "execution_count": 26,
   "id": "6bd99681",
   "metadata": {},
   "outputs": [
    {
     "data": {
      "text/plain": [
       "[(9, 2), (10, 1), (6, 0)]"
      ]
     },
     "execution_count": 26,
     "metadata": {},
     "output_type": "execute_result"
    }
   ],
   "source": [
    "# Solução de 1.h)\n",
    "def derivarPolinomio(p):\n",
    "    derivada = [] \n",
    "    for c,g in p:\n",
    "        if g !=0:\n",
    "            g2 = g - 1 \n",
    "            derivada.append((c*g, g2))\n",
    "    return derivada \n",
    "\n",
    "p4 = [(3,3), (5,2), (6,1), (7,0)]\n",
    "derivarPolinomio(p4)"
   ]
  },
  {
   "cell_type": "markdown",
   "id": "5ea31c40",
   "metadata": {},
   "source": [
    "#### i) Define uma função que recebe dois polinómios `p1` e `p2` e calcula um novo polinómio correspondente à soma de `p1` e `p2`."
   ]
  },
  {
   "cell_type": "code",
   "execution_count": 46,
   "id": "a2ef85a5",
   "metadata": {},
   "outputs": [
    {
     "data": {
      "text/plain": [
       "[(7, 5), (6, 3), (-2, 2), (2, 1), (28, 0)]"
      ]
     },
     "execution_count": 46,
     "metadata": {},
     "output_type": "execute_result"
    }
   ],
   "source": [
    "# Solução de 1.i)\n",
    "def somarPolinomios(p1,p2):\n",
    "    soma = []\n",
    "    i = 0\n",
    "    j = 0\n",
    "    while i < len(p1) and j < len(p2):\n",
    "        c1, g1 = p1[i]\n",
    "        c2, g2 = p2[j]\n",
    "\n",
    "        if g1 == g2:\n",
    "            soma.append((c1 + c2, g1))\n",
    "            i = i + 1\n",
    "            j = j + 1\n",
    "        elif g1 > g2:\n",
    "            soma.append((c1, g1))\n",
    "            i = i + 1\n",
    "        else:\n",
    "            soma.append((c2, g2))\n",
    "            j = j + 1\n",
    "\n",
    "    while i < len(p1):\n",
    "        c1, g1 = p1[i]\n",
    "        soma.append((c1, g1))\n",
    "        i = i + 1\n",
    "    \n",
    "    while j < len(p2):\n",
    "        c2, g2 = p2[j]\n",
    "        soma.append((c2, g2))\n",
    "        j = j + 1\n",
    "\n",
    "    return soma\n",
    "\n",
    "p2 = [(2,1), (1,0)]\n",
    "p3 = [(7,5), (6,3), (-2,2), (27,0)]\n",
    "\n",
    "somarPolinomios(p2, p3)"
   ]
  },
  {
   "cell_type": "markdown",
   "id": "a582ac17",
   "metadata": {},
   "source": [
    "#### j) Defina uma função para guardar uma lista de polinómios num ficheiro. Utilize-a para guardar os polinómios criados até ao momento."
   ]
  },
  {
   "cell_type": "code",
   "execution_count": 5,
   "id": "cf162692",
   "metadata": {},
   "outputs": [],
   "source": [
    "p1 = [(1,1)]\n",
    "p2 = [(2,1), (1,0)]\n",
    "p3 = [(7,5), (6,3), (-2,2), (27,0)]"
   ]
  },
  {
   "cell_type": "code",
   "execution_count": 50,
   "id": "2b3f58dd",
   "metadata": {},
   "outputs": [],
   "source": [
    "# Solução de 1.j)\n",
    "\n",
    "# f = open (\"...(nome ou onde está o ficheiro)\", r/w (read ou write)  (quando abres um ficheiro já com coisas dentro e fizermos um open, write, ele apaga o que já tinha no ficheiro))\n",
    "\n",
    "# f.read(), todo o conteudo do ficheiro vai para uma string\n",
    "# f.write(), recebe como argumentos strings \n",
    "# f.readlines(), cria uma lista de strings, esta lista corresponde às linhas do ficheiro, cada linha é um elemento\n",
    "# for line in f:   vai ler o ficheiro por linhas  \n",
    "\n",
    "\n",
    "def guardarPolinomios(listap, fnome):\n",
    "    file = open(fnome, \"w\")\n",
    "    for p in listap:\n",
    "        for termo in p:\n",
    "            coe, grau = termo\n",
    "            file.write(str(coe) + \" ; \" + str(grau) + \"\\n\") \n",
    "\n",
    "\n",
    "listap = [p1, p2, p3]\n",
    "guardarPolinomios(listap, \"Polinómios.txt\" )"
   ]
  },
  {
   "cell_type": "markdown",
   "id": "7f7d1410",
   "metadata": {},
   "source": [
    "#### k) Defina uma função para recuperar um polinómio dum ficheiro. Utilize-a para ler o ficheiro criado na alínea anterior."
   ]
  },
  {
   "cell_type": "code",
   "execution_count": 51,
   "id": "72081c41",
   "metadata": {},
   "outputs": [
    {
     "name": "stdout",
     "output_type": "stream",
     "text": [
      "1 ; 1\n",
      "\n",
      "2 ; 1\n",
      "\n",
      "1 ; 0\n",
      "\n",
      "7 ; 5\n",
      "\n",
      "6 ; 3\n",
      "\n",
      "-2 ; 2\n",
      "\n",
      "27 ; 0\n",
      "\n"
     ]
    }
   ],
   "source": [
    "# Solução de 1.k)\n",
    "\n",
    "def recuperarPolinomios(fnome):\n",
    "    file = open(fnome, \"r\")\n",
    "    for line in file:\n",
    "        print (line)\n",
    "\n",
    "recuperarPolinomios(\"Polinómios.txt\")"
   ]
  },
  {
   "cell_type": "markdown",
   "id": "fed2fbc4",
   "metadata": {},
   "source": [
    "#### l) Baseando-se nas funções até agora criadas, crie novas funções para manipular **listas de polinómios**: criar, ver, guardar e recuperar"
   ]
  },
  {
   "cell_type": "code",
   "execution_count": null,
   "id": "986c8587",
   "metadata": {},
   "outputs": [],
   "source": [
    "# Solução de 1.l)\n",
    "# ..."
   ]
  },
  {
   "cell_type": "markdown",
   "id": "6bea73df",
   "metadata": {},
   "source": [
    "#### m) Junte todas as funções num módulo, `polinomios.py`, e usa-o num pequeno programa exemplo"
   ]
  },
  {
   "cell_type": "code",
   "execution_count": null,
   "id": "82a2401b",
   "metadata": {},
   "outputs": [],
   "source": [
    "# Solução de 1.m)"
   ]
  },
  {
   "cell_type": "markdown",
   "id": "4193a91b",
   "metadata": {},
   "source": [
    "### TPC6: Análise de dados: doença cardíaca\n",
    "\n",
    "Descarregue o ficheiro de dados: [diabetes_prediction_dataset.csv](./datasets/diabetes_prediction_dataset.csv.zip).\n",
    "\n",
    "Encontra mais informação sobre este conjunto de dados [aqui](https://www.kaggle.com/datasets/iammustafatz/diabetes-prediction-dataset).\n",
    "\n",
    "Crie um programa em Python, conjunto de funções, que responda às seguintes questões:\n",
    "* Crie uma função que lê a informação do ficheiro para um modelo, previamente pensado em memória;\n",
    "* Crie uma função que calcula a distribuição da doença por sexo (tenha atenção que indivíduos doentes e não doentes no dataset);\n",
    "* Crie uma função que calcula a distribuição da doença por escalões etários. Considere os seguintes escalões: [0-10], [11-24], [25-29], [30-34], [35-39], [40-44], ...\n",
    "* Crie uma função que calcula a distribuição da doença por níveis de glucose. Considere um nível igual a um intervalo de 10 unidades, comece no limite inferior e crie os níveis necessários até abranger o limite superior;\n",
    "* Crie uma função que imprime na forma de uma tabela uma distribuição;\n",
    "* Especifique um programa que ao executar apresenta as tabelas correspondentes às distribuições pedidas."
   ]
  },
  {
   "cell_type": "code",
   "execution_count": 4,
   "id": "41eb5cfc",
   "metadata": {},
   "outputs": [
    {
     "name": "stdout",
     "output_type": "stream",
     "text": [
      "-----MENU: ------ \n",
      " (1) Distribuição da doença por sexo \n",
      " (2) Distribuição da doença por escalão etário \n",
      " (3) Distribuição da doença por níveis de glucose \n",
      " (0) Sair\n"
     ]
    },
    {
     "name": "stdout",
     "output_type": "stream",
     "text": [
      "---------- Tabela de distribuição da doença por sexo: ---------- \n",
      "4039  homens de 37391  homens têm diabetes\n",
      "4461  mulheres de 54109  mulheres têm diabetes\n",
      "---------- Tabela de distribuição da doença por escalão etário: ----------\n",
      "Nas idades entre [0-10] anos, existem,  29 doentes\n",
      "Nas idades entre [11-20] anos, existem,  126 doentes\n",
      "Nas idades entre [21-30] anos, existem,  119 doentes\n",
      "Nas idades entre [31-40] anos, existem,  507 doentes\n",
      "Nas idades entre [41-50] anos, existem,  1069 doentes\n",
      "Nas idades entre [51-60] anos, existem,  1931 doentes\n",
      "Nas idades entre [61-70] anos, existem,  2229 doentes\n",
      "Nas idades entre [71-80] anos, existem,  2490 doentes\n",
      "Nas idades entre [81-90] anos, existem,  0 doentes\n",
      "---------- Tabela de distribuição da doença por níveis de glucose: ---------- \n",
      "[80-89] -- 0\n",
      "[90-99] -- 0\n",
      "[100-109] -- 0\n",
      "[110-119] -- 0\n",
      "[120-129] -- 636\n",
      "[130-139] -- 692\n",
      "[140-149] -- 1287\n",
      "[150-159] -- 1265\n",
      "[160-169] -- 696\n",
      "[170-179] -- 0\n",
      "[180-189] -- 0\n",
      "[190-199] -- 0\n",
      "[200-209] -- 647\n",
      "[210-219] -- 0\n",
      "[220-229] -- 603\n",
      "[230-239] -- 0\n",
      "[240-249] -- 636\n",
      "[250-259] -- 0\n",
      "[260-269] -- 635\n",
      "[270-279] -- 0\n",
      "[280-289] -- 729\n",
      "[290-299] -- 0\n",
      "[300-309] -- 674\n",
      "[310-319] -- 0\n",
      "[320-329] -- 0\n",
      "[330-339] -- 0\n",
      "[340-349] -- 0\n",
      "[350-359] -- 0\n",
      "[360-369] -- 0\n",
      "[370-379] -- 0\n",
      "[380-389] -- 0\n",
      "[390-399] -- 0\n",
      "[400-409] -- 0\n",
      "[410-419] -- 0\n",
      "[420-429] -- 0\n",
      "[430-439] -- 0\n",
      "[440-449] -- 0\n",
      "[450-459] -- 0\n",
      "[460-469] -- 0\n",
      "[470-479] -- 0\n",
      "[480-489] -- 0\n",
      "[490-499] -- 0\n",
      "[500-509] -- 0\n",
      "[510-519] -- 0\n",
      "[520-529] -- 0\n",
      "[530-539] -- 0\n",
      "[540-549] -- 0\n",
      "[550-559] -- 0\n",
      "[560-569] -- 0\n",
      "[570-579] -- 0\n",
      "[580-589] -- 0\n",
      "[590-599] -- 0\n",
      "[600-609] -- 0\n",
      "[610-619] -- 0\n",
      "[620-629] -- 0\n",
      "[630-639] -- 0\n",
      "[640-649] -- 0\n",
      "[650-659] -- 0\n",
      "[660-669] -- 0\n",
      "[670-679] -- 0\n",
      "[680-689] -- 0\n",
      "[690-699] -- 0\n",
      "[700-709] -- 0\n",
      "[710-719] -- 0\n",
      "[720-729] -- 0\n",
      "[730-739] -- 0\n",
      "[740-749] -- 0\n",
      "[750-759] -- 0\n",
      "[760-769] -- 0\n",
      "[770-779] -- 0\n",
      "[780-789] -- 0\n",
      "[790-799] -- 0\n",
      "[800-809] -- 0\n",
      "[810-819] -- 0\n",
      "[820-829] -- 0\n",
      "[830-839] -- 0\n",
      "[840-849] -- 0\n",
      "[850-859] -- 0\n",
      "[860-869] -- 0\n",
      "[870-879] -- 0\n",
      "[880-889] -- 0\n",
      "[890-899] -- 0\n",
      "[900-909] -- 0\n",
      "[910-919] -- 0\n",
      "[920-929] -- 0\n",
      "[930-939] -- 0\n",
      "[940-949] -- 0\n",
      "[950-959] -- 0\n",
      "[960-969] -- 0\n",
      "[970-979] -- 0\n",
      "[980-989] -- 0\n",
      "[990-999] -- 0\n",
      "[1000-1009] -- 0\n",
      "[1010-1019] -- 0\n",
      "[1020-1029] -- 0\n",
      "[1030-1039] -- 0\n",
      "[1040-1049] -- 0\n",
      "[1050-1059] -- 0\n",
      "[1060-1069] -- 0\n",
      "[1070-1079] -- 0\n",
      "[1080-1089] -- 0\n",
      "[1090-1099] -- 0\n",
      "[1100-1109] -- 0\n",
      "[1110-1119] -- 0\n",
      "[1120-1129] -- 0\n",
      "[1130-1139] -- 0\n",
      "[1140-1149] -- 0\n",
      "[1150-1159] -- 0\n",
      "[1160-1169] -- 0\n",
      "[1170-1179] -- 0\n",
      "[1180-1189] -- 0\n",
      "[1190-1199] -- 0\n",
      "[1200-1209] -- 0\n",
      "[1210-1219] -- 0\n",
      "[1220-1229] -- 0\n",
      "[1230-1239] -- 0\n",
      "[1240-1249] -- 0\n",
      "[1250-1259] -- 0\n",
      "[1260-1269] -- 0\n",
      "[1270-1279] -- 0\n",
      "[1280-1289] -- 0\n",
      "[1290-1299] -- 0\n",
      "[1300-1309] -- 0\n",
      "[1310-1319] -- 0\n",
      "[1320-1329] -- 0\n",
      "[1330-1339] -- 0\n",
      "[1340-1349] -- 0\n",
      "[1350-1359] -- 0\n",
      "[1360-1369] -- 0\n",
      "[1370-1379] -- 0\n",
      "[1380-1389] -- 0\n",
      "[1390-1399] -- 0\n",
      "[1400-1409] -- 0\n",
      "[1410-1419] -- 0\n",
      "[1420-1429] -- 0\n",
      "[1430-1439] -- 0\n",
      "[1440-1449] -- 0\n",
      "[1450-1459] -- 0\n",
      "[1460-1469] -- 0\n",
      "[1470-1479] -- 0\n",
      "[1480-1489] -- 0\n",
      "[1490-1499] -- 0\n",
      "[1500-1509] -- 0\n",
      "[1510-1519] -- 0\n",
      "[1520-1529] -- 0\n",
      "[1530-1539] -- 0\n",
      "[1540-1549] -- 0\n",
      "[1550-1559] -- 0\n",
      "[1560-1569] -- 0\n",
      "[1570-1579] -- 0\n",
      "[1580-1589] -- 0\n",
      "[1590-1599] -- 0\n",
      "[1600-1609] -- 0\n",
      "[1610-1619] -- 0\n",
      "[1620-1629] -- 0\n",
      "[1630-1639] -- 0\n",
      "[1640-1649] -- 0\n",
      "[1650-1659] -- 0\n",
      "[1660-1669] -- 0\n",
      "[1670-1679] -- 0\n",
      "[1680-1689] -- 0\n",
      "[1690-1699] -- 0\n",
      "[1700-1709] -- 0\n",
      "[1710-1719] -- 0\n",
      "[1720-1729] -- 0\n",
      "[1730-1739] -- 0\n",
      "[1740-1749] -- 0\n",
      "[1750-1759] -- 0\n",
      "[1760-1769] -- 0\n",
      "[1770-1779] -- 0\n",
      "[1780-1789] -- 0\n",
      "[1790-1799] -- 0\n",
      "[1800-1809] -- 0\n",
      "[1810-1819] -- 0\n",
      "[1820-1829] -- 0\n",
      "[1830-1839] -- 0\n",
      "[1840-1849] -- 0\n",
      "[1850-1859] -- 0\n",
      "[1860-1869] -- 0\n",
      "[1870-1879] -- 0\n",
      "[1880-1889] -- 0\n",
      "[1890-1899] -- 0\n",
      "[1900-1909] -- 0\n",
      "[1910-1919] -- 0\n",
      "[1920-1929] -- 0\n",
      "[1930-1939] -- 0\n",
      "[1940-1949] -- 0\n",
      "[1950-1959] -- 0\n",
      "[1960-1969] -- 0\n",
      "[1970-1979] -- 0\n",
      "[1980-1989] -- 0\n",
      "[1990-1999] -- 0\n",
      "[2000-2009] -- 0\n",
      "[2010-2019] -- 0\n",
      "[2020-2029] -- 0\n",
      "[2030-2039] -- 0\n",
      "[2040-2049] -- 0\n",
      "[2050-2059] -- 0\n",
      "[2060-2069] -- 0\n",
      "[2070-2079] -- 0\n",
      "[2080-2089] -- 0\n",
      "[2090-2099] -- 0\n",
      "[2100-2109] -- 0\n",
      "[2110-2119] -- 0\n",
      "[2120-2129] -- 0\n",
      "[2130-2139] -- 0\n",
      "[2140-2149] -- 0\n",
      "[2150-2159] -- 0\n",
      "[2160-2169] -- 0\n",
      "[2170-2179] -- 0\n",
      "[2180-2189] -- 0\n",
      "[2190-2199] -- 0\n",
      "[2200-2209] -- 0\n",
      "[2210-2219] -- 0\n",
      "[2220-2229] -- 0\n",
      "[2230-2239] -- 0\n",
      "[2240-2249] -- 0\n",
      "[2250-2259] -- 0\n",
      "[2260-2269] -- 0\n",
      "[2270-2279] -- 0\n",
      "[2280-2289] -- 0\n",
      "A aplicação terminou! Até à próxima!\n"
     ]
    }
   ],
   "source": [
    "def lerficheiro(fnome):\n",
    "     \n",
    "     file = open (fnome, \"r\")\n",
    "     ficheiro = []\n",
    "     linhas = file.readlines()\n",
    "     for linha in linhas[1:]:    #a primeira linha é título\n",
    "          p = linha.split(\",\")\n",
    "          ficheiro.append((str(p[0]), float(p[1]), int(p[2]), int(p[3]), str(p[4]), float(p[5]), float(p[6]), int(p[7]), int(p[8])))\n",
    "     file.close()\n",
    "     return ficheiro \n",
    "\n",
    "\n",
    "def distdoençapsexo(fnome):\n",
    "     \n",
    "     file1 = lerficheiro(fnome)\n",
    "     h=0\n",
    "     m=0\n",
    "     hdiabetes=0\n",
    "     mdiabetes=0\n",
    "     \n",
    "     for linha in file1:\n",
    "          \n",
    "          if linha [8] == 1:\n",
    "               if linha[0] == \"Male\":\n",
    "                    hdiabetes = hdiabetes + 1\n",
    "               else:\n",
    "                    mdiabetes = mdiabetes + 1\n",
    "          \n",
    "          else:\n",
    "               if linha[0] == \"Male\":\n",
    "                    h = h + 1\n",
    "               else: \n",
    "                    m = m + 1\n",
    "     \n",
    "     print( hdiabetes, \" homens de\", h, \" homens têm diabetes\")\n",
    "     print( mdiabetes, \" mulheres de\", m, \" mulheres têm diabetes\")\n",
    "\n",
    "def distdoençapescaloesetarios(fnome):\n",
    "     \n",
    "     file2 = lerficheiro(fnome)\n",
    "\n",
    "     escalao1 = []\n",
    "     escalao2 = []\n",
    "     escalao3 = []\n",
    "     escalao4 = []\n",
    "     escalao5 = []\n",
    "     escalao6 = []\n",
    "     escalao7 = []\n",
    "     escalao8 = []\n",
    "     escalao9 = []\n",
    "     \n",
    "     for linha in file2:\n",
    "          if linha[8] == 1:\n",
    "               if linha[1] in range (0,11):\n",
    "                    escalao1.append(1)\n",
    "               elif linha[1] in range(11,25):\n",
    "                    escalao2.append(1)\n",
    "               elif linha[1] in range(25,30):\n",
    "                    escalao3.append(1)\n",
    "               elif linha[1] in range(30,41):\n",
    "                    escalao4.append(1)\n",
    "               elif linha[1] in range(41,51):\n",
    "                    escalao5.append(1)\n",
    "               elif linha[1] in range(51,61):\n",
    "                    escalao6.append(1)\n",
    "               elif linha[1] in range(61,71):\n",
    "                    escalao7.append(1)\n",
    "               elif linha[1] in range(71,81):\n",
    "                    escalao8.append(1)\n",
    "               elif linha[1] in range(81,90):\n",
    "                    escalao9.append(1)\n",
    "     \n",
    "     print (\"Nas idades entre [0-10] anos, existem, \", len(escalao1), \"doentes\")\n",
    "     print (\"Nas idades entre [11-20] anos, existem, \", len(escalao2), \"doentes\")     \n",
    "     print (\"Nas idades entre [21-30] anos, existem, \", len(escalao3), \"doentes\")\n",
    "     print (\"Nas idades entre [31-40] anos, existem, \", len(escalao4), \"doentes\")\n",
    "     print (\"Nas idades entre [41-50] anos, existem, \", len(escalao5), \"doentes\")\n",
    "     print (\"Nas idades entre [51-60] anos, existem, \", len(escalao6), \"doentes\")\n",
    "     print (\"Nas idades entre [61-70] anos, existem, \", len(escalao7), \"doentes\")\n",
    "     print (\"Nas idades entre [71-80] anos, existem, \", len(escalao8), \"doentes\")\n",
    "     print (\"Nas idades entre [81-90] anos, existem, \", len(escalao9), \"doentes\")\n",
    "\n",
    "def distdoençapglucose(fnome):\n",
    "\n",
    "     file3 = lerficheiro(fnome)\n",
    "     glucose = []\n",
    "     glucosediabeticos= []\n",
    "\n",
    "     maior = int(0)\n",
    "     menor = int(100000000)\n",
    "\n",
    "     for linha in file3:\n",
    "          if int(linha[7]) > maior:\n",
    "               maior = linha[7]\n",
    "          if int(linha[7]) < menor:\n",
    "               menor = linha[7]\n",
    "     \n",
    "     m = menor \n",
    "     while m <= maior:\n",
    "          glucose.append(0)\n",
    "          m = m + 1\n",
    "     \n",
    "     for linha in file3:\n",
    "          if linha[8] == 1:\n",
    "               p = menor \n",
    "               nglucose = int(linha[7])\n",
    "               indice = int((int(nglucose)-int(p))/10)\n",
    "               glucose[indice] = glucose[indice] + 1\n",
    "     \n",
    "     for g in glucose:\n",
    "          p = menor \n",
    "          i = p + 9\n",
    "          glucosediabeticos.append((\"[\" + str(p) +  \"-\" + str(i) + \"] -- \" + str(g) ))\n",
    "          menor = menor + 10\n",
    "     \n",
    "     for dist in glucosediabeticos:\n",
    "          print(dist)\n",
    "\n",
    "def tabela(fnome, funçao):\n",
    "          \n",
    "     if funçao == 1:\n",
    "          print(\"---------- Tabela de distribuição da doença por sexo: ---------- \")\n",
    "          distdoençapsexo(fnome)\n",
    "     if funçao == 2:\n",
    "          print(\"---------- Tabela de distribuição da doença por escalão etário: ----------\")\n",
    "          distdoençapescaloesetarios(fnome)\n",
    "     if funçao == 3:\n",
    "          print(\"---------- Tabela de distribuição da doença por níveis de glucose: ---------- \")\n",
    "          distdoençapglucose(fnome)\n",
    "\n",
    "\n",
    "print (\"-----MENU: ------ \\n (1) Distribuição da doença por sexo \\n (2) Distribuição da doença por escalão etário \\n (3) Distribuição da doença por níveis de glucose \\n (0) Sair\")\n",
    "\n",
    "opc = int(input(\"Qual a opção que deseja?\"))\n",
    "\n",
    "while opc != 0:\n",
    "     if opc == 1:\n",
    "          tabela(\"diabetes_prediction_dataset.csv\", 1)\n",
    "          opc = int(input(\"Qual a opção que deseja?\"))\n",
    "     if opc == 2:\n",
    "          tabela(\"diabetes_prediction_dataset.csv\", 2)\n",
    "          opc = int(input(\"Qual a opção que deseja?\"))\n",
    "     if opc == 3: \n",
    "          tabela(\"diabetes_prediction_dataset.csv\", 3)\n",
    "          opc = int(input(\"Qual a opção que deseja?\"))\n",
    "          \n",
    "if opc == 0:\n",
    "    print(\"A aplicação terminou! Até à próxima!\")\n",
    "\n",
    "\n",
    "   "
   ]
  }
 ],
 "metadata": {
  "kernelspec": {
   "display_name": "Python 3.9.1 64-bit",
   "language": "python",
   "name": "python3"
  },
  "language_info": {
   "codemirror_mode": {
    "name": "ipython",
    "version": 3
   },
   "file_extension": ".py",
   "mimetype": "text/x-python",
   "name": "python",
   "nbconvert_exporter": "python",
   "pygments_lexer": "ipython3",
   "version": "3.10.2"
  },
  "vscode": {
   "interpreter": {
    "hash": "aee8b7b246df8f9039afb4144a1f6fd8d2ca17a180786b69acc140d282b71a49"
   }
  }
 },
 "nbformat": 4,
 "nbformat_minor": 5
}
